{
  "nbformat": 4,
  "nbformat_minor": 0,
  "metadata": {
    "colab": {
      "provenance": []
    },
    "kernelspec": {
      "name": "python3",
      "display_name": "Python 3"
    },
    "language_info": {
      "name": "python"
    }
  },
  "cells": [
    {
      "cell_type": "markdown",
      "source": [
        "Menyususn Kata \"PROGRAMING\""
      ],
      "metadata": {
        "id": "qPjnocUkqFfs"
      }
    },
    {
      "cell_type": "code",
      "source": [
        "input_list = ['p', 'r', 'o', 'g', 'r', 'a', 'm', 'm', 'i', 'n', 'g']\n",
        "\n",
        "# Menguraikan setiap karakter dan membangun kata \"programming\"\n",
        "output_string = \"\"\n",
        "output_string += input_list[0]  # p\n",
        "output_string += input_list[1]  # r\n",
        "output_string += input_list[2]  # o\n",
        "output_string += input_list[3]  # g\n",
        "output_string += input_list[4]  # r\n",
        "output_string += input_list[5]  # a\n",
        "output_string += input_list[6]  # m\n",
        "output_string += input_list[7]  # m\n",
        "output_string += input_list[8]  # i\n",
        "output_string += input_list[9]  # n\n",
        "output_string += input_list[10]  # g\n",
        "\n",
        "print(output_string)  # Output: \"programming\"\n"
      ],
      "metadata": {
        "colab": {
          "base_uri": "https://localhost:8080/"
        },
        "id": "V4euRS5yqJEs",
        "outputId": "8e123a2d-6c22-4f27-8582-0fb80d032269"
      },
      "execution_count": 1,
      "outputs": [
        {
          "output_type": "stream",
          "name": "stdout",
          "text": [
            "programming\n"
          ]
        }
      ]
    }
  ]
}