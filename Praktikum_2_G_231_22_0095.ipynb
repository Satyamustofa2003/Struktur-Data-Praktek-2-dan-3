{
  "nbformat": 4,
  "nbformat_minor": 0,
  "metadata": {
    "colab": {
      "provenance": []
    },
    "kernelspec": {
      "name": "python3",
      "display_name": "Python 3"
    },
    "language_info": {
      "name": "python"
    }
  },
  "cells": [
    {
      "cell_type": "markdown",
      "source": [],
      "metadata": {
        "id": "OUIDjXE-n0Ls"
      }
    },
    {
      "cell_type": "markdown",
      "source": [
        "Tuple sederhana"
      ],
      "metadata": {
        "id": "lfqWHszjl9KP"
      }
    },
    {
      "cell_type": "code",
      "execution_count": null,
      "metadata": {
        "colab": {
          "base_uri": "https://localhost:8080/"
        },
        "id": "hQzpVv4FhR1S",
        "outputId": "06c39136-8f12-4c25-a52a-eb5c824bf8aa"
      },
      "outputs": [
        {
          "output_type": "stream",
          "name": "stdout",
          "text": [
            "1\n",
            "4\n"
          ]
        }
      ],
      "source": [
        "# Membuat sebuah tuple\n",
        "my_tuple = (1, 2, 3, 4, 5)\n",
        "\n",
        "# Mengakses elemen tuple\n",
        "print(my_tuple[0])  # Output: 1\n",
        "print(my_tuple[3])  # Output: 4\n",
        "\n",
        "# Tuple bersifat tidak dapat diubah (immutable), jadi Anda tidak dapat menambahkan atau mengubah elemennya\n"
      ]
    },
    {
      "cell_type": "markdown",
      "source": [
        "Dictionary Sederhana"
      ],
      "metadata": {
        "id": "3uJw7BvTmYor"
      }
    },
    {
      "cell_type": "code",
      "source": [
        "# Membuat sebuah dictionary\n",
        "my_dict = {\n",
        "    \"nama\": \"John\",\n",
        "    \"umur\": 30,\n",
        "    \"kota\": \"New York\"\n",
        "}\n",
        "\n",
        "# Mengakses nilai dalam dictionary berdasarkan kunci (key)\n",
        "print(my_dict[\"nama\"])  # Output: John\n",
        "print(my_dict[\"umur\"])  # Output: 30\n",
        "\n",
        "# Menambahkan item ke dictionary\n",
        "my_dict[\"pekerjaan\"] = \"Insinyur\"\n",
        "\n",
        "# Menghapus item dari dictionary\n",
        "del my_dict[\"kota\"]\n"
      ],
      "metadata": {
        "colab": {
          "base_uri": "https://localhost:8080/"
        },
        "id": "tDvG7YrHmDGf",
        "outputId": "f489ddcd-29d2-49cf-d1c8-ae4998deebf6"
      },
      "execution_count": null,
      "outputs": [
        {
          "output_type": "stream",
          "name": "stdout",
          "text": [
            "John\n",
            "30\n"
          ]
        }
      ]
    },
    {
      "cell_type": "markdown",
      "source": [
        "Cara Men delete tuple"
      ],
      "metadata": {
        "id": "UZbUVxpPmpRs"
      }
    },
    {
      "cell_type": "code",
      "source": [
        "my_tuple = (1, 2, 3, 4, 5)\n",
        "\n",
        "# Menghapus tuple\n",
        "del my_tuple\n",
        "\n",
        "# Mencoba mengakses tuple setelah dihapus akan menghasilkan error\n",
        "# print(my_tuple)  # Ini akan menghasilkan NameError: name 'my_tuple' is not defined\n"
      ],
      "metadata": {
        "id": "OPWH4hyFms8v"
      },
      "execution_count": null,
      "outputs": []
    },
    {
      "cell_type": "markdown",
      "source": [
        "Penggunaan tupple dengan satu elemen"
      ],
      "metadata": {
        "id": "OG24clIimy_z"
      }
    },
    {
      "cell_type": "code",
      "source": [
        "# Tuple dengan satu elemen (gunakan koma setelah elemen)\n",
        "single_element_tuple = (42,)\n",
        "\n",
        "# Anda juga dapat membuat tuple tanpa komentar, tetapi perlu hati-hati\n",
        "# single_element_tuple = (42)  # Ini akan dianggap sebagai integer, bukan tuple\n",
        "\n",
        "# Mengakses elemen dalam tuple\n",
        "value = single_element_tuple[0]\n",
        "print(value)  # Output: 42\n",
        "\n",
        "# Memeriksa panjang tuple\n",
        "length = len(single_element_tuple)\n",
        "print(\"Panjang tuple:\", length)  # Output: Panjang tuple: 1\n",
        "\n",
        "# Iterasi melalui elemen-elemen tuple\n",
        "for item in single_element_tuple:\n",
        "    print(item)  # Output: 42\n",
        "\n",
        "# Menambahkan tuple dengan satu elemen ke tuple lain\n",
        "tuple1 = (1, 2, 3)\n",
        "new_tuple = tuple1 + single_element_tuple\n",
        "print(new_tuple)  # Output: (1, 2, 3, 42)\n",
        "\n",
        "# Menggandakan tuple dengan satu elemen\n",
        "duplicated_tuple = single_element_tuple * 3\n",
        "print(duplicated_tuple)  # Output: (42, 42, 42)\n",
        "\n",
        "# Memeriksa apakah elemen tertentu ada dalam tuple\n",
        "is_present = 42 in single_element_tuple\n",
        "print(\"Apakah 42 ada dalam tuple?\", is_present)  # Output: Apakah 42 ada dalam tuple? True\n",
        "\n",
        "# Menyusun tuple dengan satu elemen\n",
        "single_element_tuple = (42,)  # Perhatikan penggunaan koma setelah elemen\n"
      ],
      "metadata": {
        "colab": {
          "base_uri": "https://localhost:8080/"
        },
        "id": "muurIvAFm4wj",
        "outputId": "1859f355-b7ba-474e-8aca-84493947e37b"
      },
      "execution_count": null,
      "outputs": [
        {
          "output_type": "stream",
          "name": "stdout",
          "text": [
            "42\n",
            "Panjang tuple: 1\n",
            "42\n",
            "(1, 2, 3, 42)\n",
            "(42, 42, 42)\n",
            "Apakah 42 ada dalam tuple? True\n"
          ]
        }
      ]
    },
    {
      "cell_type": "markdown",
      "source": [
        "Literasi Dictionary"
      ],
      "metadata": {
        "id": "QS5ZnXmJnXLN"
      }
    },
    {
      "cell_type": "code",
      "source": [
        "# Iterasi melalui key dan value dalam dictionary\n",
        "for key, value in my_dict.items():\n",
        "    print(key, \":\", value)\n",
        "\n",
        "# Output:\n",
        "# nama : John\n",
        "# umur : 30\n",
        "# pekerjaan : Insinyur\n"
      ],
      "metadata": {
        "colab": {
          "base_uri": "https://localhost:8080/"
        },
        "id": "Rdsre5Q1ncit",
        "outputId": "de491939-c10b-4db8-de73-4cb328ec3a47"
      },
      "execution_count": null,
      "outputs": [
        {
          "output_type": "stream",
          "name": "stdout",
          "text": [
            "nama : John\n",
            "umur : 30\n",
            "pekerjaan : Insinyur\n"
          ]
        }
      ]
    }
  ]
}